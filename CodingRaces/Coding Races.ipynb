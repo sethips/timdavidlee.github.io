{
 "cells": [
  {
   "cell_type": "code",
   "execution_count": 17,
   "metadata": {
    "collapsed": true
   },
   "outputs": [],
   "source": [
    "import numpy as np"
   ]
  },
  {
   "cell_type": "markdown",
   "metadata": {},
   "source": [
    "# 0. Return string backwards, every N letters"
   ]
  },
  {
   "cell_type": "markdown",
   "metadata": {},
   "source": [
    "    returnN('superlongstring', 2) = 'gitgorps'\n",
    "    returnN('superlongstring', 3) = 'grglp'\n"
   ]
  },
  {
   "cell_type": "markdown",
   "metadata": {},
   "source": [
    "# 1. Return sum, exclude duplicates\n"
   ]
  },
  {
   "cell_type": "markdown",
   "metadata": {},
   "source": [
    "    lone_sum(1, 2, 3) → 6\n",
    "    lone_sum(3, 2, 3) → 2\n",
    "    lone_sum(3, 3, 3) → 0"
   ]
  },
  {
   "cell_type": "markdown",
   "metadata": {},
   "source": [
    "# 2. Return sum, excluding 13 and any numbers after"
   ]
  },
  {
   "cell_type": "markdown",
   "metadata": {},
   "source": [
    "    lucky_sum(1, 2, 3) → 6\n",
    "    lucky_sum(1, 2, 13) → 3\n",
    "    lucky_sum(1, 13, 3) → 1"
   ]
  },
  {
   "cell_type": "markdown",
   "metadata": {},
   "source": [
    "# 3. Is there 22? Is there a 2 next to another 2?"
   ]
  },
  {
   "cell_type": "markdown",
   "metadata": {},
   "source": [
    "    has22([1, 2, 2]) → True\n",
    "    has22([1, 2, 1, 2]) → False\n",
    "    has22([2, 1, 2]) → False"
   ]
  },
  {
   "cell_type": "code",
   "execution_count": 22,
   "metadata": {
    "collapsed": false
   },
   "outputs": [],
   "source": [
    "inp1 = [1,2,2,3,5,6,7,8,5,530]\n",
    "inp2 = [2,3,605,4,6,7,3,53,2]\n",
    "inp3 = [np.random.randint(6) for i in range(100)]"
   ]
  },
  {
   "cell_type": "code",
   "execution_count": null,
   "metadata": {
    "collapsed": false
   },
   "outputs": [],
   "source": []
  },
  {
   "cell_type": "markdown",
   "metadata": {},
   "source": [
    "# 4. Print Staircase size n"
   ]
  },
  {
   "cell_type": "code",
   "execution_count": 2,
   "metadata": {
    "collapsed": true
   },
   "outputs": [],
   "source": [
    "n=6"
   ]
  },
  {
   "cell_type": "markdown",
   "metadata": {},
   "source": [
    "             #\n",
    "            ##\n",
    "           ###\n",
    "          ####\n",
    "         #####\n",
    "        ######"
   ]
  },
  {
   "cell_type": "markdown",
   "metadata": {},
   "source": [
    "# 5. Math Operations"
   ]
  },
  {
   "cell_type": "markdown",
   "metadata": {},
   "source": [
    "You must print the following  lines:\n",
    "\n",
    "1. A decimal representing of the fraction of ***positive numbers*** in the array.\n",
    "2. A decimal representing of the fraction of ***negative numbers*** in the array.\n",
    "3. A decimal representing of the fraction of **zeroes*** in the array."
   ]
  },
  {
   "cell_type": "code",
   "execution_count": null,
   "metadata": {
    "collapsed": true
   },
   "outputs": [],
   "source": [
    "a =6\n",
    "b= [-4 3 -9 0 4 1] "
   ]
  },
  {
   "cell_type": "markdown",
   "metadata": {},
   "source": [
    "        0.500000\n",
    "        0.333333\n",
    "        0.166667"
   ]
  },
  {
   "cell_type": "markdown",
   "metadata": {},
   "source": [
    "# 6. Pangrams\n",
    "\n",
    "(Pangrams are sentences constructed by using every letter of the alphabet at least once.)\n"
   ]
  },
  {
   "cell_type": "code",
   "execution_count": 4,
   "metadata": {
    "collapsed": true
   },
   "outputs": [],
   "source": [
    "a = \"We promptly judged antique ivory buckles for the next prize\"\n",
    "b = \"We promptly judged antique ivory buckles for the prize\""
   ]
  },
  {
   "cell_type": "markdown",
   "metadata": {},
   "source": [
    "\"pangram\"\n",
    "\n",
    "\"not pangram\""
   ]
  },
  {
   "cell_type": "markdown",
   "metadata": {},
   "source": [
    "# 7. Checking Matches"
   ]
  },
  {
   "cell_type": "markdown",
   "metadata": {},
   "source": [
    "\n",
    "Given 2 strings, a and b, return the number of the positions where they contain the same length 2 substring. So \"xxcaazz\" and \"xxbaaz\" yields 3, since the \"xx\", \"aa\", and \"az\" substrings appear in the same place in both strings.\n",
    "\n",
    "string_match('xxcaazz', 'xxbaaz') → 3\n",
    "\n",
    "string_match('abc', 'abc') → 2\n",
    "\n",
    "string_match('abc', 'axc') → 0"
   ]
  },
  {
   "cell_type": "markdown",
   "metadata": {},
   "source": [
    "# 8. Checking for 9 in the first 4"
   ]
  },
  {
   "cell_type": "markdown",
   "metadata": {},
   "source": [
    "Given an array of ints, return True if one of the first 4 elements in the array is a 9. The array length may be less than 4.\n",
    "\n",
    "array_front9([1, 2, 9, 3, 4]) → True\n",
    "\n",
    "array_front9([1, 2, 3, 4, 9]) → False\n",
    "\n",
    "array_front9([1, 2, 3, 4, 5]) → False"
   ]
  },
  {
   "cell_type": "code",
   "execution_count": null,
   "metadata": {
    "collapsed": true
   },
   "outputs": [],
   "source": []
  },
  {
   "cell_type": "markdown",
   "metadata": {},
   "source": [
    "# 9. Fibonacci"
   ]
  },
  {
   "cell_type": "markdown",
   "metadata": {},
   "source": [
    "The fibonacci sequence is a famous bit of mathematics, and it happens to have a recursive definition. The first two values in the sequence are 0 and 1 (essentially 2 base cases). Each subsequent value is the sum of the previous two values, so the whole sequence is: 0, 1, 1, 2, 3, 5, 8, 13, 21 and so on. Define a recursive fibonacci(n) method that returns the nth fibonacci number, with n=0 representing the start of the sequence.\n",
    "\n",
    "    fibonacci(0) → 0\n",
    "\n",
    "    fibonacci(1) → 1\n",
    "\n",
    "    fibonacci(2) → 0 + 1 = 1\n",
    "\n",
    "    fibonacci(3) → 1 + 1 = 2\n",
    "\n",
    "    fibonacci(4) → 1 + 2 = 3\n",
    "\n",
    "    fibonacci(5) → 2 + 3 = 5"
   ]
  },
  {
   "cell_type": "markdown",
   "metadata": {},
   "source": [
    "# 10. Count 8"
   ]
  },
  {
   "cell_type": "markdown",
   "metadata": {},
   "source": [
    "Given a non-negative int n, compute recursively (no loops) the count of the occurrences of 8 as a digit, except that an 8 with another 8 immediately to its left counts double, so 8818 yields 4. Note that mod (%) by 10 yields the rightmost digit (126 % 10 is 6), while divide (/) by 10 removes the rightmost digit (126 / 10 is 12).\n",
    "\n",
    "    count8(8) → 1\n",
    "    count8(818) → 2\n",
    "    count8(8818) → 4"
   ]
  },
  {
   "cell_type": "code",
   "execution_count": null,
   "metadata": {
    "collapsed": true
   },
   "outputs": [],
   "source": [
    "num1 = 881888181818\n",
    "\n",
    "num2 = 88188818181881818188888881818881888818"
   ]
  },
  {
   "cell_type": "markdown",
   "metadata": {},
   "source": [
    "# 11. Longest string with given bookends"
   ]
  },
  {
   "cell_type": "markdown",
   "metadata": {},
   "source": [
    "Given a string and a non-empty substring sub, compute recursively the largest substring which starts and ends with sub and return its length.\n",
    "\n",
    "    strDist(\"catcowcat\", \"cat\") → 9\n",
    "    strDist(\"catcowcat\", \"cow\") → 3\n",
    "    strDist(\"cccatcowcatxx\", \"cat\") → 9"
   ]
  },
  {
   "cell_type": "code",
   "execution_count": null,
   "metadata": {
    "collapsed": true
   },
   "outputs": [],
   "source": []
  },
  {
   "cell_type": "markdown",
   "metadata": {},
   "source": [
    "# 12. Binary\n",
    "\n",
    "Read the integer,  and print the decimal, octal, hexadecimal, and binary values from  to  with space padding so that all fields take the same width as the binary value.\n",
    "\n",
    "Input Format \n",
    "The first line contains an integer, .\n",
    "\n",
    "Constraints\n",
    "\n",
    "Output Format \n",
    "Print  lines. Format the fields as the width of the binary value of .\n",
    "\n",
    "Sample Input"
   ]
  },
  {
   "cell_type": "code",
   "execution_count": 1,
   "metadata": {
    "collapsed": true
   },
   "outputs": [],
   "source": [
    "n=17"
   ]
  },
  {
   "cell_type": "markdown",
   "metadata": {},
   "source": [
    "        1     1     1     1\n",
    "        2     2     2    10\n",
    "        3     3     3    11\n",
    "        4     4     4   100\n",
    "        5     5     5   101\n",
    "        6     6     6   110\n",
    "        7     7     7   111\n",
    "        8    10     8  1000\n",
    "        9    11     9  1001\n",
    "       10    12     A  1010\n",
    "       11    13     B  1011\n",
    "       12    14     C  1100\n",
    "       13    15     D  1101\n",
    "       14    16     E  1110\n",
    "       15    17     F  1111\n",
    "       16    20    10 10000\n",
    "       17    21    11 10001     "
   ]
  }
 ],
 "metadata": {
  "anaconda-cloud": {},
  "kernelspec": {
   "display_name": "Python [dsi]",
   "language": "python",
   "name": "Python [dsi]"
  },
  "language_info": {
   "codemirror_mode": {
    "name": "ipython",
    "version": 2
   },
   "file_extension": ".py",
   "mimetype": "text/x-python",
   "name": "python",
   "nbconvert_exporter": "python",
   "pygments_lexer": "ipython2",
   "version": "2.7.12"
  }
 },
 "nbformat": 4,
 "nbformat_minor": 1
}
